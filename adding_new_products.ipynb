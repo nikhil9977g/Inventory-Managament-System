{
 "cells": [
  {
   "cell_type": "code",
   "execution_count": 10,
   "metadata": {},
   "outputs": [
    {
     "name": "stdout",
     "output_type": "stream",
     "text": [
      "What do you want? Add a product or Delete a product(a/d)a\n",
      "Enter product id of the product you want to add: 136\n",
      "Enter name of the product you want to add: Chocolate Cake\n",
      "Enter price of the product you want to add: 140\n",
      "Enter quantity of the product you want to add: 150\n",
      "Enter expiry date of the product you want to add: 12/12/2022\n",
      "Enter discount of the product you want to add: 25\n",
      "\n",
      "Data added successfully.\n"
     ]
    }
   ],
   "source": [
    "import json\n",
    "\n",
    "#Opening the file records.json in read mode\n",
    "#And, storing the data into the inventory dictionary\n",
    "fd = open(\"records.json\",\"r\")\n",
    "\n",
    "records_data = fd.read()\n",
    "\n",
    "fd.close()\n",
    "\n",
    "inventory = json.loads(records_data)\n",
    "\n",
    "\n",
    "#Loop that iterates until a valid choice is entered\n",
    "while(True):\n",
    "    \n",
    "    #Asking the user to enter choice\n",
    "    #Whether (s)he wants to add or delete a product\n",
    "    choice = input(\"What do you want? Add a product or Delete a product(a/d)\")\n",
    "    \n",
    "    #If user wants to add a product then, this if block will be executed\n",
    "    if(choice == 'a'):\n",
    "        \n",
    "        #Asking the user to enter the details of the product\n",
    "        prod_id = input(\"Enter product id of the product you want to add: \")\n",
    "        name = input(\"Enter name of the product you want to add: \")\n",
    "        price = int(input(\"Enter price of the product you want to add: \"))\n",
    "        quantity = int(input(\"Enter quantity of the product you want to add: \"))\n",
    "        expiry = input(\"Enter expiry date of the product you want to add: \")\n",
    "        discount = int(input(\"Enter discount of the product you want to add: \"))\n",
    "        \n",
    "        #If the product is already available in the inventory\n",
    "        #Then, updating the details of that product\n",
    "        if(prod_id in inventory):\n",
    "            inventory[prod_id]['Quantity'] = inventory[prod_id]['Quantity'] + quantity\n",
    "            inventory[prod_id]['MRP'] = price\n",
    "            inventory[prod_id]['Discount'] = discount\n",
    "            inventory[prod_id]['Expiry Date'] = expiry\n",
    "            \n",
    "        #If product is not available in the inventory\n",
    "        #then, adding this product in the inventory\n",
    "        else:\n",
    "            inventory[prod_id] = {'Name': name, 'Quantity': quantity, 'Expiry Date': expiry, \"MRP\": price, \"Discount\": discount}\n",
    "\n",
    "        print(\"\\nData added successfully.\")    \n",
    "        \n",
    "        break\n",
    "    \n",
    "    #If user wants to delete a product then, this elif block will be executed\n",
    "    elif(choice == 'd'):\n",
    "        prod_id = input(\"Enter product id of the product you want to delete: \")\n",
    "        del inventory[prod_id]\n",
    "        print(\"\\nData deleted successfully.\")\n",
    "        \n",
    "        break\n",
    "    \n",
    "    #If user enters wrong choice\n",
    "    #then, asking the user to enter the choice again\n",
    "    else:\n",
    "        print(\"You have entered a wrong choice. Please enter a valid choice.\") \n",
    "\n",
    "\n",
    "#Updating records.json file        \n",
    "js = json.dumps(inventory,indent=2)\n",
    "\n",
    "fd = open(\"records.json\",'w')\n",
    "fd.write(js)\n",
    "fd.close()\n",
    "\n"
   ]
  }
 ],
 "metadata": {
  "kernelspec": {
   "display_name": "Python 3",
   "language": "python",
   "name": "python3"
  },
  "language_info": {
   "codemirror_mode": {
    "name": "ipython",
    "version": 3
   },
   "file_extension": ".py",
   "mimetype": "text/x-python",
   "name": "python",
   "nbconvert_exporter": "python",
   "pygments_lexer": "ipython3",
   "version": "3.8.5"
  }
 },
 "nbformat": 4,
 "nbformat_minor": 4
}
